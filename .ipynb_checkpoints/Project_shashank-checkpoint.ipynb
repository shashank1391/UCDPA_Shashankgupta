{
 "cells": [
  {
   "cell_type": "code",
   "execution_count": 2,
   "id": "43edd27e",
   "metadata": {},
   "outputs": [],
   "source": [
    "shashank = 5"
   ]
  },
  {
   "cell_type": "code",
   "execution_count": 4,
   "id": "4ad78b24",
   "metadata": {},
   "outputs": [
    {
     "name": "stdout",
     "output_type": "stream",
     "text": [
      "5\n"
     ]
    }
   ],
   "source": [
    "print(shashank)"
   ]
  },
  {
   "cell_type": "code",
   "execution_count": null,
   "id": "3ba7ec56",
   "metadata": {},
   "outputs": [],
   "source": []
  }
 ],
 "metadata": {
  "kernelspec": {
   "display_name": "Python 3",
   "language": "python",
   "name": "python3"
  },
  "language_info": {
   "codemirror_mode": {
    "name": "ipython",
    "version": 3
   },
   "file_extension": ".py",
   "mimetype": "text/x-python",
   "name": "python",
   "nbconvert_exporter": "python",
   "pygments_lexer": "ipython3",
   "version": "3.8.8"
  }
 },
 "nbformat": 4,
 "nbformat_minor": 5
}
