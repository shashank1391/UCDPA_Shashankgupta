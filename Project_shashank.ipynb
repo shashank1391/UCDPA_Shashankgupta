{
 "cells": [
  {
   "cell_type": "code",
   "execution_count": 1,
   "id": "a2035a8c",
   "metadata": {},
   "outputs": [],
   "source": [
    "import pandas as pd"
   ]
  },
  {
   "cell_type": "code",
   "execution_count": 8,
   "id": "8e15249a",
   "metadata": {},
   "outputs": [],
   "source": [
    "covid = pd.read_csv('COVID-19 Coronavirus.csv')  "
   ]
  },
  {
   "cell_type": "code",
   "execution_count": 9,
   "id": "5de41ddb",
   "metadata": {},
   "outputs": [
    {
     "name": "stdout",
     "output_type": "stream",
     "text": [
      "               Country                Other names ISO 3166-1 alpha-3 CODE  \\\n",
      "0          Afghanistan                Afghanistan                     AFG   \n",
      "1              Albania                    Albania                     ALB   \n",
      "2              Algeria                    Algeria                     DZA   \n",
      "3              Andorra                    Andorra                     AND   \n",
      "4               Angola                     Angola                     AGO   \n",
      "..                 ...                        ...                     ...   \n",
      "220  Wallis and Futuna  Wallis and Futuna Islands                     WLF   \n",
      "221     Western Sahara             Western Sahara                   ESHÂ    \n",
      "222              Yemen                      Yemen                     YEM   \n",
      "223             Zambia                     Zambia                     ZMB   \n",
      "224           Zimbabwe                   Zimbabwe                     ZWE   \n",
      "\n",
      "     Population Continent  Total Cases  Total Deaths  Tot Cases//1M pop  \\\n",
      "0      40462186      Asia       177827          7671               4395   \n",
      "1       2872296    Europe       273870          3492              95349   \n",
      "2      45236699    Africa       265691          6874               5873   \n",
      "3         77481    Europe        40024           153             516565   \n",
      "4      34654212    Africa        99194          1900               2862   \n",
      "..          ...       ...          ...           ...                ...   \n",
      "220       10894   Oceania          454             7              41674   \n",
      "221      623031    Africa           10             1                 16   \n",
      "222    30975258      Asia        11806          2143                381   \n",
      "223    19284482    Africa       317076          3967              16442   \n",
      "224    15241601    Africa       246525          5446              16174   \n",
      "\n",
      "     Tot Deaths/1M pop  Death percentage  \n",
      "0                  190          4.313743  \n",
      "1                 1216          1.275058  \n",
      "2                  152          2.587216  \n",
      "3                 1975          0.382271  \n",
      "4                   55          1.915438  \n",
      "..                 ...               ...  \n",
      "220                643          1.541850  \n",
      "221                  2         10.000000  \n",
      "222                 69         18.151787  \n",
      "223                206          1.251120  \n",
      "224                357          2.209107  \n",
      "\n",
      "[225 rows x 10 columns]\n"
     ]
    }
   ],
   "source": [
    "print (covid)"
   ]
  },
  {
   "cell_type": "code",
   "execution_count": null,
   "id": "221775ad",
   "metadata": {},
   "outputs": [],
   "source": []
  }
 ],
 "metadata": {
  "kernelspec": {
   "display_name": "Python 3",
   "language": "python",
   "name": "python3"
  },
  "language_info": {
   "codemirror_mode": {
    "name": "ipython",
    "version": 3
   },
   "file_extension": ".py",
   "mimetype": "text/x-python",
   "name": "python",
   "nbconvert_exporter": "python",
   "pygments_lexer": "ipython3",
   "version": "3.8.8"
  }
 },
 "nbformat": 4,
 "nbformat_minor": 5
}
